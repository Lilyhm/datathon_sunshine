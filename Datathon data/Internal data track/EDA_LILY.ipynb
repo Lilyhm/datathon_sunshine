{
 "cells": [
  {
   "cell_type": "code",
   "execution_count": 87,
   "metadata": {},
   "outputs": [],
   "source": [
    "import pandas as pd\n",
    "import numpy as np"
   ]
  },
  {
   "cell_type": "code",
   "execution_count": 223,
   "metadata": {},
   "outputs": [],
   "source": [
    "cols_to_use = ['HubRandomID', 'Hub_ActivityID', 'ActivityDate', \n",
    "               'ProgrammeID', 'ChildParticipants', 'AdultParticipants', 'ReferralParticipants', \n",
    "               'EngagedCount', 'StartTime', 'EndTime', 'HubVolunteers',\n",
    "              'SchoolVolunteers', 'ExternalVolunteers', 'ProgrammeID', \n",
    "              'ProgrammeID.1', 'ServiceTypeID', 'ProgrammeCategoryID',\n",
    "              'ProgrammeCategoryID.1', 'ShortName.1', 'CategoryName']\n",
    "\n",
    "col_types = {'HubRandomID': 'int64', 'Hub_ActivityID': 'int64', 'ActivityDate': 'str', \n",
    "             'ProgrammeID': 'int64', 'ChildParticipants': 'int64', 'AdultParticipants': 'int64', \n",
    "             'ReferralParticipants': 'int64', 'EngagedCount': 'int64', 'StartTime': 'str', \n",
    "             'EndTime' : 'str', 'HubVolunteers': 'int64','SchoolVolunteers': 'int64', \n",
    "             'ExternalVolunteers': 'int64', 'ProgrammeID': 'int64', 'ProgrammeID.1': 'int64', \n",
    "             'ServiceTypeID': 'int64', 'ProgrammeCategoryID': 'int64', 'ProgrammeCategoryID.1': 'int64', \n",
    "             'ShortName.1': 'str', 'CategoryName': 'str'}\n",
    "\n",
    "datetime_cols = ['ActivityDate', 'StartTime', 'EndTime']\n",
    "\n",
    "df = pd.read_csv('Datathon - CHA activities 2016-2020.csv', parse_dates=datetime_cols,\n",
    "                usecols=cols_to_use, dtype=col_types).sort_values(by=\"ActivityDate\")"
   ]
  },
  {
   "cell_type": "code",
   "execution_count": 224,
   "metadata": {},
   "outputs": [],
   "source": [
    "for x in datetime_cols:\n",
    "    if 'Date' in x:\n",
    "        df[x] = df[x].dt.date\n",
    "    else:\n",
    "        df[x] = df[x].dt.time"
   ]
  },
  {
   "cell_type": "code",
   "execution_count": 231,
   "metadata": {},
   "outputs": [
    {
     "data": {
      "text/html": [
       "<div>\n",
       "<style scoped>\n",
       "    .dataframe tbody tr th:only-of-type {\n",
       "        vertical-align: middle;\n",
       "    }\n",
       "\n",
       "    .dataframe tbody tr th {\n",
       "        vertical-align: top;\n",
       "    }\n",
       "\n",
       "    .dataframe thead th {\n",
       "        text-align: right;\n",
       "    }\n",
       "</style>\n",
       "<table border=\"1\" class=\"dataframe\">\n",
       "  <thead>\n",
       "    <tr style=\"text-align: right;\">\n",
       "      <th></th>\n",
       "      <th>HubRandomID</th>\n",
       "      <th>Hub_ActivityID</th>\n",
       "      <th>ActivityDate</th>\n",
       "      <th>ProgrammeID</th>\n",
       "      <th>ChildParticipants</th>\n",
       "      <th>AdultParticipants</th>\n",
       "      <th>ReferralParticipants</th>\n",
       "      <th>EngagedCount</th>\n",
       "      <th>StartTime</th>\n",
       "      <th>EndTime</th>\n",
       "      <th>ExternalVolunteers</th>\n",
       "      <th>HubVolunteers</th>\n",
       "      <th>SchoolVolunteers</th>\n",
       "      <th>ProgrammeID.1</th>\n",
       "      <th>ProgrammeCategoryID</th>\n",
       "      <th>ServiceTypeID</th>\n",
       "      <th>ProgrammeCategoryID.1</th>\n",
       "      <th>CategoryName</th>\n",
       "      <th>ShortName.1</th>\n",
       "      <th>TotalParticipants</th>\n",
       "    </tr>\n",
       "  </thead>\n",
       "  <tbody>\n",
       "    <tr>\n",
       "      <td>29936</td>\n",
       "      <td>14819</td>\n",
       "      <td>523499</td>\n",
       "      <td>2016-01-02</td>\n",
       "      <td>47</td>\n",
       "      <td>0</td>\n",
       "      <td>0</td>\n",
       "      <td>0</td>\n",
       "      <td>0</td>\n",
       "      <td>NaT</td>\n",
       "      <td>NaT</td>\n",
       "      <td>0</td>\n",
       "      <td>0</td>\n",
       "      <td>0</td>\n",
       "      <td>47</td>\n",
       "      <td>1</td>\n",
       "      <td>145</td>\n",
       "      <td>1</td>\n",
       "      <td>Programmed Activities</td>\n",
       "      <td>PROG</td>\n",
       "      <td>0</td>\n",
       "    </tr>\n",
       "    <tr>\n",
       "      <td>29870</td>\n",
       "      <td>18315</td>\n",
       "      <td>523433</td>\n",
       "      <td>2016-01-02</td>\n",
       "      <td>59</td>\n",
       "      <td>0</td>\n",
       "      <td>0</td>\n",
       "      <td>2</td>\n",
       "      <td>0</td>\n",
       "      <td>NaT</td>\n",
       "      <td>NaT</td>\n",
       "      <td>0</td>\n",
       "      <td>0</td>\n",
       "      <td>0</td>\n",
       "      <td>59</td>\n",
       "      <td>3</td>\n",
       "      <td>2</td>\n",
       "      <td>3</td>\n",
       "      <td>Service Referrals</td>\n",
       "      <td>SERV</td>\n",
       "      <td>0</td>\n",
       "    </tr>\n",
       "    <tr>\n",
       "      <td>29869</td>\n",
       "      <td>16407</td>\n",
       "      <td>523432</td>\n",
       "      <td>2016-01-02</td>\n",
       "      <td>59</td>\n",
       "      <td>0</td>\n",
       "      <td>0</td>\n",
       "      <td>0</td>\n",
       "      <td>0</td>\n",
       "      <td>NaT</td>\n",
       "      <td>NaT</td>\n",
       "      <td>0</td>\n",
       "      <td>0</td>\n",
       "      <td>0</td>\n",
       "      <td>59</td>\n",
       "      <td>3</td>\n",
       "      <td>2</td>\n",
       "      <td>3</td>\n",
       "      <td>Service Referrals</td>\n",
       "      <td>SERV</td>\n",
       "      <td>0</td>\n",
       "    </tr>\n",
       "    <tr>\n",
       "      <td>29868</td>\n",
       "      <td>17534</td>\n",
       "      <td>523431</td>\n",
       "      <td>2016-01-02</td>\n",
       "      <td>47</td>\n",
       "      <td>2</td>\n",
       "      <td>12</td>\n",
       "      <td>0</td>\n",
       "      <td>0</td>\n",
       "      <td>NaT</td>\n",
       "      <td>NaT</td>\n",
       "      <td>0</td>\n",
       "      <td>0</td>\n",
       "      <td>0</td>\n",
       "      <td>47</td>\n",
       "      <td>1</td>\n",
       "      <td>145</td>\n",
       "      <td>1</td>\n",
       "      <td>Programmed Activities</td>\n",
       "      <td>PROG</td>\n",
       "      <td>14</td>\n",
       "    </tr>\n",
       "    <tr>\n",
       "      <td>29867</td>\n",
       "      <td>16407</td>\n",
       "      <td>523430</td>\n",
       "      <td>2016-01-02</td>\n",
       "      <td>48</td>\n",
       "      <td>0</td>\n",
       "      <td>0</td>\n",
       "      <td>0</td>\n",
       "      <td>0</td>\n",
       "      <td>NaT</td>\n",
       "      <td>NaT</td>\n",
       "      <td>0</td>\n",
       "      <td>0</td>\n",
       "      <td>0</td>\n",
       "      <td>48</td>\n",
       "      <td>1</td>\n",
       "      <td>10</td>\n",
       "      <td>1</td>\n",
       "      <td>Programmed Activities</td>\n",
       "      <td>PROG</td>\n",
       "      <td>0</td>\n",
       "    </tr>\n",
       "  </tbody>\n",
       "</table>\n",
       "</div>"
      ],
      "text/plain": [
       "       HubRandomID  Hub_ActivityID ActivityDate  ProgrammeID  \\\n",
       "29936        14819          523499   2016-01-02           47   \n",
       "29870        18315          523433   2016-01-02           59   \n",
       "29869        16407          523432   2016-01-02           59   \n",
       "29868        17534          523431   2016-01-02           47   \n",
       "29867        16407          523430   2016-01-02           48   \n",
       "\n",
       "       ChildParticipants  AdultParticipants  ReferralParticipants  \\\n",
       "29936                  0                  0                     0   \n",
       "29870                  0                  0                     2   \n",
       "29869                  0                  0                     0   \n",
       "29868                  2                 12                     0   \n",
       "29867                  0                  0                     0   \n",
       "\n",
       "       EngagedCount StartTime EndTime  ExternalVolunteers  HubVolunteers  \\\n",
       "29936             0       NaT     NaT                   0              0   \n",
       "29870             0       NaT     NaT                   0              0   \n",
       "29869             0       NaT     NaT                   0              0   \n",
       "29868             0       NaT     NaT                   0              0   \n",
       "29867             0       NaT     NaT                   0              0   \n",
       "\n",
       "       SchoolVolunteers  ProgrammeID.1  ProgrammeCategoryID  ServiceTypeID  \\\n",
       "29936                 0             47                    1            145   \n",
       "29870                 0             59                    3              2   \n",
       "29869                 0             59                    3              2   \n",
       "29868                 0             47                    1            145   \n",
       "29867                 0             48                    1             10   \n",
       "\n",
       "       ProgrammeCategoryID.1           CategoryName ShortName.1  \\\n",
       "29936                      1  Programmed Activities        PROG   \n",
       "29870                      3      Service Referrals        SERV   \n",
       "29869                      3      Service Referrals        SERV   \n",
       "29868                      1  Programmed Activities        PROG   \n",
       "29867                      1  Programmed Activities        PROG   \n",
       "\n",
       "       TotalParticipants  \n",
       "29936                  0  \n",
       "29870                  0  \n",
       "29869                  0  \n",
       "29868                 14  \n",
       "29867                  0  "
      ]
     },
     "execution_count": 231,
     "metadata": {},
     "output_type": "execute_result"
    }
   ],
   "source": [
    "df.head()"
   ]
  },
  {
   "cell_type": "markdown",
   "metadata": {},
   "source": [
    "#### Descriptive Stats"
   ]
  },
  {
   "cell_type": "code",
   "execution_count": 225,
   "metadata": {},
   "outputs": [
    {
     "data": {
      "text/plain": [
       "80"
      ]
     },
     "execution_count": 225,
     "metadata": {},
     "output_type": "execute_result"
    }
   ],
   "source": [
    "# HubRandomID\n",
    "# how many hubs?\n",
    "df['HubRandomID'].nunique()"
   ]
  },
  {
   "cell_type": "code",
   "execution_count": 226,
   "metadata": {},
   "outputs": [
    {
     "name": "stdout",
     "output_type": "stream",
     "text": [
      "Hub with Max (5280) Activites: 19277 \n",
      "\n",
      "Hub with Min (37) Activities: 10932\n"
     ]
    }
   ],
   "source": [
    "# how many activities?\n",
    "how_many_acts = df.groupby('HubRandomID')['Hub_ActivityID']\\\n",
    ".agg(['count'])\n",
    "\n",
    "print(f\"Hub with Max ({how_many_acts['count'].max()}) Activites: \"\n",
    "      f\"{how_many_acts['count'].idxmax()} \\n\")\n",
    "print(f\"Hub with Min ({how_many_acts['count'].min()}) Activities: \" \n",
    "      f\"{how_many_acts['count'].idxmin()}\")"
   ]
  },
  {
   "cell_type": "code",
   "execution_count": 227,
   "metadata": {},
   "outputs": [],
   "source": [
    "# total participants column (sum of all the participants)\n",
    "particpant_cols = ['ChildParticipants', 'AdultParticipants']\n",
    "df['TotalParticipants'] = df[particpant_cols].sum(axis=1)"
   ]
  },
  {
   "cell_type": "code",
   "execution_count": 228,
   "metadata": {},
   "outputs": [
    {
     "name": "stdout",
     "output_type": "stream",
     "text": [
      "Hub with the highest average attendance (36.39): 18922 \n",
      "\n",
      "Hub with the lowest average attendance (1.43): 10932\n"
     ]
    }
   ],
   "source": [
    "# average attendance per session per hub?\n",
    "attendance = df.groupby('HubRandomID')['TotalParticipants']\\\n",
    ".agg(['sum', 'mean'])\n",
    "\n",
    "print(f\"Hub with the highest average attendance ({round(attendance['mean'].max(), 2)}): \"\n",
    "      f\"{attendance['mean'].idxmax()} \\n\")\n",
    "print(f\"Hub with the lowest average attendance ({round(attendance['mean'].min(), 2)}): \"\n",
    "      f\"{attendance['mean'].idxmin()}\")"
   ]
  },
  {
   "cell_type": "code",
   "execution_count": 229,
   "metadata": {},
   "outputs": [
    {
     "name": "stdout",
     "output_type": "stream",
     "text": [
      "Total number of sessions: 1,594,194\n",
      "\n",
      "Adults attend 617,140 sessions; 38.71% of the total participants\n",
      "\n",
      "Children attend 977,054 sessions; 61.29% of the total participants\n"
     ]
    }
   ],
   "source": [
    "# who attends more: adults or children? \n",
    "total_particpants = df['TotalParticipants'].sum()\n",
    "adult_participants = df['AdultParticipants'].sum()\n",
    "child_participants = df['ChildParticipants'].sum()\n",
    "print(f\"Total number of sessions: {total_particpants:,.0f}\\n\")\n",
    "print(f\"Adults attend {adult_participants:,.0f} sessions; {round(adult_participants/total_particpants * 100, 2)}% of the total participants\\n\")\n",
    "print(f\"Children attend {child_participants:,.0f} sessions; {round(child_participants/total_particpants * 100, 2)}% of the total participants\")"
   ]
  },
  {
   "cell_type": "code",
   "execution_count": 230,
   "metadata": {},
   "outputs": [
    {
     "name": "stdout",
     "output_type": "stream",
     "text": [
      "Total number of referred participants 164,159; 10.3% of the total participants\n"
     ]
    }
   ],
   "source": [
    "# what percent of people come by referral? \n",
    "referred_participants = df['ReferralParticipants'].sum()\n",
    "print(f\"Total number of referred participants {referred_participants:,.0f}; {round(referred_participants/total_particpants * 100, 2)}% of the total participants\")"
   ]
  },
  {
   "cell_type": "code",
   "execution_count": null,
   "metadata": {},
   "outputs": [],
   "source": [
    "# how many hubs opened in the last year \n",
    "# LOGIC: is their first activity date within the last year \n"
   ]
  },
  {
   "cell_type": "code",
   "execution_count": null,
   "metadata": {},
   "outputs": [],
   "source": [
    "# how long does a hub session typically go for "
   ]
  },
  {
   "cell_type": "code",
   "execution_count": null,
   "metadata": {},
   "outputs": [],
   "source": [
    "# how many volunteers? and why types of volunteers?"
   ]
  },
  {
   "cell_type": "markdown",
   "metadata": {},
   "source": [
    "#### Predictive Stats"
   ]
  },
  {
   "cell_type": "code",
   "execution_count": null,
   "metadata": {},
   "outputs": [],
   "source": [
    "# is there a relationship between number of volunteers & participant rate "
   ]
  }
 ],
 "metadata": {
  "kernelspec": {
   "display_name": "Python 3",
   "language": "python",
   "name": "python3"
  },
  "language_info": {
   "codemirror_mode": {
    "name": "ipython",
    "version": 3
   },
   "file_extension": ".py",
   "mimetype": "text/x-python",
   "name": "python",
   "nbconvert_exporter": "python",
   "pygments_lexer": "ipython3",
   "version": "3.7.4"
  }
 },
 "nbformat": 4,
 "nbformat_minor": 4
}
