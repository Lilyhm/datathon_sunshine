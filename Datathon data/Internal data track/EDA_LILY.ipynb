{
 "cells": [
  {
   "cell_type": "code",
   "execution_count": 165,
   "metadata": {},
   "outputs": [],
   "source": [
    "import pandas as pd\n",
    "import numpy as np\n",
    "from datetime import timedelta, date, datetime\n",
    "import warnings\n",
    "warnings.filterwarnings('ignore')"
   ]
  },
  {
   "cell_type": "code",
   "execution_count": 180,
   "metadata": {},
   "outputs": [],
   "source": [
    "cols_to_use = ['HubRandomID', 'Hub_ActivityID', 'ActivityDate', \n",
    "               'ProgrammeID', 'ChildParticipants', 'AdultParticipants', 'ReferralParticipants', \n",
    "               'EngagedCount', 'StartTime', 'EndTime', 'HubVolunteers',\n",
    "              'SchoolVolunteers', 'ExternalVolunteers', 'ProgrammeID', \n",
    "              'ProgrammeID.1', 'ServiceTypeID', 'ProgrammeCategoryID',\n",
    "              'ProgrammeCategoryID.1', 'ShortName.1', 'CategoryName', 'ProgrammeName']\n",
    "\n",
    "col_types = {'HubRandomID': 'int64', 'Hub_ActivityID': 'int64', 'ActivityDate': 'str', \n",
    "             'ProgrammeID': 'int64', 'ChildParticipants': 'int64', 'AdultParticipants': 'int64', \n",
    "             'ReferralParticipants': 'int64', 'EngagedCount': 'int64', 'StartTime': 'str', \n",
    "             'EndTime' : 'str', 'HubVolunteers': 'int64','SchoolVolunteers': 'int64', \n",
    "             'ExternalVolunteers': 'int64', 'ProgrammeID': 'int64', 'ProgrammeID.1': 'int64', \n",
    "             'ServiceTypeID': 'int64', 'ProgrammeCategoryID': 'int64', 'ProgrammeCategoryID.1': 'int64', \n",
    "             'ShortName.1': 'str', 'CategoryName': 'str', 'ProgrammeName': 'str'}\n",
    "\n",
    "datetime_cols = ['ActivityDate', 'StartTime', 'EndTime']\n",
    "\n",
    "df = pd.read_csv('Datathon - CHA activities 2016-2020.csv', usecols=cols_to_use, dtype=col_types, parse_dates=datetime_cols).sort_values(by=\"ActivityDate\")"
   ]
  },
  {
   "cell_type": "code",
   "execution_count": 181,
   "metadata": {},
   "outputs": [
    {
     "data": {
      "text/html": [
       "<div>\n",
       "<style scoped>\n",
       "    .dataframe tbody tr th:only-of-type {\n",
       "        vertical-align: middle;\n",
       "    }\n",
       "\n",
       "    .dataframe tbody tr th {\n",
       "        vertical-align: top;\n",
       "    }\n",
       "\n",
       "    .dataframe thead th {\n",
       "        text-align: right;\n",
       "    }\n",
       "</style>\n",
       "<table border=\"1\" class=\"dataframe\">\n",
       "  <thead>\n",
       "    <tr style=\"text-align: right;\">\n",
       "      <th></th>\n",
       "      <th>HubRandomID</th>\n",
       "      <th>Hub_ActivityID</th>\n",
       "      <th>ActivityDate</th>\n",
       "      <th>ProgrammeID</th>\n",
       "      <th>ChildParticipants</th>\n",
       "      <th>AdultParticipants</th>\n",
       "      <th>ReferralParticipants</th>\n",
       "      <th>EngagedCount</th>\n",
       "      <th>StartTime</th>\n",
       "      <th>EndTime</th>\n",
       "      <th>ExternalVolunteers</th>\n",
       "      <th>HubVolunteers</th>\n",
       "      <th>SchoolVolunteers</th>\n",
       "      <th>ProgrammeID.1</th>\n",
       "      <th>ProgrammeName</th>\n",
       "      <th>ProgrammeCategoryID</th>\n",
       "      <th>ServiceTypeID</th>\n",
       "      <th>ProgrammeCategoryID.1</th>\n",
       "      <th>CategoryName</th>\n",
       "      <th>ShortName.1</th>\n",
       "    </tr>\n",
       "  </thead>\n",
       "  <tbody>\n",
       "    <tr>\n",
       "      <td>157586</td>\n",
       "      <td>13590</td>\n",
       "      <td>659379</td>\n",
       "      <td>2019-12-20</td>\n",
       "      <td>55</td>\n",
       "      <td>0</td>\n",
       "      <td>0</td>\n",
       "      <td>0</td>\n",
       "      <td>0</td>\n",
       "      <td>2020-02-28 09:00:00</td>\n",
       "      <td>2020-02-28 15:00:00</td>\n",
       "      <td>0</td>\n",
       "      <td>0</td>\n",
       "      <td>0</td>\n",
       "      <td>55</td>\n",
       "      <td>Volunteering</td>\n",
       "      <td>2</td>\n",
       "      <td>2</td>\n",
       "      <td>2</td>\n",
       "      <td>Education and Training</td>\n",
       "      <td>VET</td>\n",
       "    </tr>\n",
       "    <tr>\n",
       "      <td>158333</td>\n",
       "      <td>11818</td>\n",
       "      <td>660493</td>\n",
       "      <td>2019-12-20</td>\n",
       "      <td>52</td>\n",
       "      <td>0</td>\n",
       "      <td>0</td>\n",
       "      <td>0</td>\n",
       "      <td>0</td>\n",
       "      <td>2020-02-28 11:00:00</td>\n",
       "      <td>2020-02-28 14:00:00</td>\n",
       "      <td>0</td>\n",
       "      <td>0</td>\n",
       "      <td>0</td>\n",
       "      <td>52</td>\n",
       "      <td>Formal Training</td>\n",
       "      <td>2</td>\n",
       "      <td>3</td>\n",
       "      <td>2</td>\n",
       "      <td>Education and Training</td>\n",
       "      <td>VET</td>\n",
       "    </tr>\n",
       "    <tr>\n",
       "      <td>156745</td>\n",
       "      <td>11188</td>\n",
       "      <td>658144</td>\n",
       "      <td>2019-12-20</td>\n",
       "      <td>49</td>\n",
       "      <td>0</td>\n",
       "      <td>0</td>\n",
       "      <td>0</td>\n",
       "      <td>0</td>\n",
       "      <td>2020-02-28 08:30:00</td>\n",
       "      <td>2020-02-28 09:15:00</td>\n",
       "      <td>0</td>\n",
       "      <td>2</td>\n",
       "      <td>0</td>\n",
       "      <td>49</td>\n",
       "      <td>Parent engagement</td>\n",
       "      <td>1</td>\n",
       "      <td>10</td>\n",
       "      <td>1</td>\n",
       "      <td>Programmed Activities</td>\n",
       "      <td>PROG</td>\n",
       "    </tr>\n",
       "    <tr>\n",
       "      <td>162160</td>\n",
       "      <td>11188</td>\n",
       "      <td>667795</td>\n",
       "      <td>2019-12-20</td>\n",
       "      <td>52</td>\n",
       "      <td>0</td>\n",
       "      <td>15</td>\n",
       "      <td>0</td>\n",
       "      <td>0</td>\n",
       "      <td>2020-02-28 09:30:00</td>\n",
       "      <td>2020-02-28 14:30:00</td>\n",
       "      <td>0</td>\n",
       "      <td>0</td>\n",
       "      <td>0</td>\n",
       "      <td>52</td>\n",
       "      <td>Formal Training</td>\n",
       "      <td>2</td>\n",
       "      <td>3</td>\n",
       "      <td>2</td>\n",
       "      <td>Education and Training</td>\n",
       "      <td>VET</td>\n",
       "    </tr>\n",
       "    <tr>\n",
       "      <td>157243</td>\n",
       "      <td>17600</td>\n",
       "      <td>658968</td>\n",
       "      <td>2019-12-20</td>\n",
       "      <td>49</td>\n",
       "      <td>0</td>\n",
       "      <td>0</td>\n",
       "      <td>0</td>\n",
       "      <td>0</td>\n",
       "      <td>2020-02-28 12:00:00</td>\n",
       "      <td>2020-02-28 14:00:00</td>\n",
       "      <td>0</td>\n",
       "      <td>0</td>\n",
       "      <td>0</td>\n",
       "      <td>49</td>\n",
       "      <td>Parent engagement</td>\n",
       "      <td>1</td>\n",
       "      <td>10</td>\n",
       "      <td>1</td>\n",
       "      <td>Programmed Activities</td>\n",
       "      <td>PROG</td>\n",
       "    </tr>\n",
       "  </tbody>\n",
       "</table>\n",
       "</div>"
      ],
      "text/plain": [
       "        HubRandomID  Hub_ActivityID ActivityDate  ProgrammeID  \\\n",
       "157586        13590          659379   2019-12-20           55   \n",
       "158333        11818          660493   2019-12-20           52   \n",
       "156745        11188          658144   2019-12-20           49   \n",
       "162160        11188          667795   2019-12-20           52   \n",
       "157243        17600          658968   2019-12-20           49   \n",
       "\n",
       "        ChildParticipants  AdultParticipants  ReferralParticipants  \\\n",
       "157586                  0                  0                     0   \n",
       "158333                  0                  0                     0   \n",
       "156745                  0                  0                     0   \n",
       "162160                  0                 15                     0   \n",
       "157243                  0                  0                     0   \n",
       "\n",
       "        EngagedCount           StartTime             EndTime  \\\n",
       "157586             0 2020-02-28 09:00:00 2020-02-28 15:00:00   \n",
       "158333             0 2020-02-28 11:00:00 2020-02-28 14:00:00   \n",
       "156745             0 2020-02-28 08:30:00 2020-02-28 09:15:00   \n",
       "162160             0 2020-02-28 09:30:00 2020-02-28 14:30:00   \n",
       "157243             0 2020-02-28 12:00:00 2020-02-28 14:00:00   \n",
       "\n",
       "        ExternalVolunteers  HubVolunteers  SchoolVolunteers  ProgrammeID.1  \\\n",
       "157586                   0              0                 0             55   \n",
       "158333                   0              0                 0             52   \n",
       "156745                   0              2                 0             49   \n",
       "162160                   0              0                 0             52   \n",
       "157243                   0              0                 0             49   \n",
       "\n",
       "            ProgrammeName  ProgrammeCategoryID  ServiceTypeID  \\\n",
       "157586       Volunteering                    2              2   \n",
       "158333    Formal Training                    2              3   \n",
       "156745  Parent engagement                    1             10   \n",
       "162160    Formal Training                    2              3   \n",
       "157243  Parent engagement                    1             10   \n",
       "\n",
       "        ProgrammeCategoryID.1            CategoryName ShortName.1  \n",
       "157586                      2  Education and Training         VET  \n",
       "158333                      2  Education and Training         VET  \n",
       "156745                      1   Programmed Activities        PROG  \n",
       "162160                      2  Education and Training         VET  \n",
       "157243                      1   Programmed Activities        PROG  "
      ]
     },
     "execution_count": 181,
     "metadata": {},
     "output_type": "execute_result"
    }
   ],
   "source": [
    "df.tail()"
   ]
  },
  {
   "cell_type": "markdown",
   "metadata": {},
   "source": [
    "### Descriptive Stats"
   ]
  },
  {
   "cell_type": "markdown",
   "metadata": {},
   "source": [
    "#### General Hub Stats"
   ]
  },
  {
   "cell_type": "code",
   "execution_count": 182,
   "metadata": {},
   "outputs": [
    {
     "data": {
      "text/plain": [
       "80"
      ]
     },
     "execution_count": 182,
     "metadata": {},
     "output_type": "execute_result"
    }
   ],
   "source": [
    "# HubRandomID\n",
    "# how many hubs?\n",
    "df['HubRandomID'].nunique()"
   ]
  },
  {
   "cell_type": "code",
   "execution_count": 183,
   "metadata": {},
   "outputs": [
    {
     "name": "stdout",
     "output_type": "stream",
     "text": [
      "The number of hubs opened in 2016: 45\n",
      "The number of hubs opened in 2017: 13\n",
      "The number of hubs opened in 2018: 11\n",
      "The number of hubs opened in 2019: 11\n"
     ]
    },
    {
     "data": {
      "text/plain": [
       "[None, None, None, None]"
      ]
     },
     "execution_count": 183,
     "metadata": {},
     "output_type": "execute_result"
    }
   ],
   "source": [
    "# how many hubs opened in the last year \n",
    "# LOGIC: is their first activity date within the last year \n",
    "\n",
    "# get a list of hub ids\n",
    "hub_ids= list(df['HubRandomID'].unique())\n",
    "\n",
    "# find the first instance of the id    \n",
    "first_idx = [df['HubRandomID'].ne(x).idxmin() for x in hub_ids]   \n",
    "df_fist_instance = df.iloc[first_id]\n",
    "\n",
    "# get list of hubs that opened by year\n",
    "min_date = df_fist_instance['ActivityDate'].min().year\n",
    "max_date = df_fist_instance['ActivityDate'].max().year\n",
    "date_range = list(range(min_date, max_date  + 1, 1))\n",
    "[print(f\"The number of hubs opened in {x}: {len(df_fist_instance.loc[df_fist_instance['ActivityDate'].dt.year == x])}\")\\\n",
    " for x in date_range]\n"
   ]
  },
  {
   "cell_type": "markdown",
   "metadata": {},
   "source": [
    "#### Activity Stats"
   ]
  },
  {
   "cell_type": "code",
   "execution_count": 184,
   "metadata": {},
   "outputs": [
    {
     "name": "stdout",
     "output_type": "stream",
     "text": [
      "When did CHA started recording start/end times of activities? 2018-01-08 00:00:00 \n"
     ]
    }
   ],
   "source": [
    "# when did they start recording times? \n",
    "df_valid_start_end_time = df[df['StartTime'].isnull() == False]\n",
    "print(f\"When did CHA started recording start/end times of activities? {df_valid_start_end_time['ActivityDate'].min()} \")"
   ]
  },
  {
   "cell_type": "code",
   "execution_count": 185,
   "metadata": {},
   "outputs": [
    {
     "name": "stdout",
     "output_type": "stream",
     "text": [
      "Hub with Max (5280) Activites: 19277 \n",
      "\n",
      "Hub with Min (37) Activities: 10932\n"
     ]
    }
   ],
   "source": [
    "# how many activities?\n",
    "how_many_acts = df.groupby('HubRandomID')['Hub_ActivityID']\\\n",
    ".agg(['count'])\n",
    "\n",
    "print(f\"Hub with Max ({how_many_acts['count'].max()}) Activites: \"\n",
    "      f\"{how_many_acts['count'].idxmax()} \\n\")\n",
    "print(f\"Hub with Min ({how_many_acts['count'].min()}) Activities: \" \n",
    "      f\"{how_many_acts['count'].idxmin()}\")"
   ]
  },
  {
   "cell_type": "code",
   "execution_count": 186,
   "metadata": {},
   "outputs": [
    {
     "name": "stdout",
     "output_type": "stream",
     "text": [
      "A typical hub activity goes for 95.92 minutes\n"
     ]
    }
   ],
   "source": [
    "# how long does a hub activity typically go for?\n",
    "\n",
    "# create a column called total time \n",
    "df_valid_start_end_time['TotalActivityTime']= (df_valid_start_end_time['EndTime'] - df_valid_start_end_time['StartTime'])/np.timedelta64(1, 'm')\n",
    "\n",
    "# average over that column \n",
    "print(f\"A typical hub activity goes for {round(df_valid_start_end_time['TotalActivityTime'].mean(), 2)} minutes\")"
   ]
  },
  {
   "cell_type": "code",
   "execution_count": 265,
   "metadata": {},
   "outputs": [],
   "source": [
    "def count_df(col:str, df:pd.DataFrame) -> pd.DataFrame:\n",
    "    \"\"\"\n",
    "    get the number of times each value in a column occurs\n",
    "    returned in a dataframe\n",
    "    \"\"\"\n",
    "    occurance_name = 'NumberOfOccur'\n",
    "    name_key = list(df[col].unique())\n",
    "    name_values = [len(df.loc[df[col] == x]) for x in name_key]\n",
    "    return pd.DataFrame.from_dict(dict(zip(name_key, name_values)), orient='index', columns=[occurance_name])\\\n",
    ".sort_values(by=occurance_name, ascending=False)"
   ]
  },
  {
   "cell_type": "code",
   "execution_count": 267,
   "metadata": {},
   "outputs": [
    {
     "name": "stdout",
     "output_type": "stream",
     "text": [
      "The most common (27,936) programme is Parent engagement\n"
     ]
    }
   ],
   "source": [
    "# what is the most common activity (by programe name) \n",
    "count_programme_name = count_df('ProgrammeName', df)\n",
    "print(f\"The most common ({count_programme_name['NumberOfOccur'].max():,.0f}) programme is {count_programme_name['NumberOfOccur'].idxmax()}\")"
   ]
  },
  {
   "cell_type": "code",
   "execution_count": 269,
   "metadata": {},
   "outputs": [
    {
     "name": "stdout",
     "output_type": "stream",
     "text": [
      "The most common (88,458) programme category is Programmed Activities\n"
     ]
    }
   ],
   "source": [
    "# what is the most common activity (by category name)\n",
    "count_programme_cat = count_df('CategoryName', df)\n",
    "print(f\"The most common ({count_programme_cat['NumberOfOccur'].max():,.0f}) programme category is {count_programme_cat['NumberOfOccur'].idxmax()}\")"
   ]
  },
  {
   "cell_type": "markdown",
   "metadata": {},
   "source": [
    "#### Participant Stats"
   ]
  },
  {
   "cell_type": "code",
   "execution_count": 173,
   "metadata": {},
   "outputs": [],
   "source": [
    "# total participants column (sum of all the participants)\n",
    "particpant_cols = ['ChildParticipants', 'AdultParticipants']\n",
    "df['TotalParticipants'] = df[particpant_cols].sum(axis=1)"
   ]
  },
  {
   "cell_type": "code",
   "execution_count": 174,
   "metadata": {},
   "outputs": [
    {
     "name": "stdout",
     "output_type": "stream",
     "text": [
      "Hub with the highest average attendance (36.39): 18922 \n",
      "\n",
      "Hub with the lowest average attendance (1.43): 10932\n"
     ]
    }
   ],
   "source": [
    "# average attendance per session per hub?\n",
    "attendance = df.groupby('HubRandomID')['TotalParticipants']\\\n",
    ".agg(['sum', 'mean'])\n",
    "\n",
    "print(f\"Hub with the highest average attendance ({round(attendance['mean'].max(), 2)}): \"\n",
    "      f\"{attendance['mean'].idxmax()} \\n\")\n",
    "print(f\"Hub with the lowest average attendance ({round(attendance['mean'].min(), 2)}): \"\n",
    "      f\"{attendance['mean'].idxmin()}\")"
   ]
  },
  {
   "cell_type": "code",
   "execution_count": 175,
   "metadata": {},
   "outputs": [
    {
     "name": "stdout",
     "output_type": "stream",
     "text": [
      "Total number of sessions: 1,594,194\n",
      "\n",
      "Adults attend 617,140 sessions; 38.71% of the total participants\n",
      "\n",
      "Children attend 977,054 sessions; 61.29% of the total participants\n"
     ]
    }
   ],
   "source": [
    "# who attends more: adults or children? \n",
    "total_particpants = df['TotalParticipants'].sum()\n",
    "adult_participants = df['AdultParticipants'].sum()\n",
    "child_participants = df['ChildParticipants'].sum()\n",
    "print(f\"Total number of sessions: {total_particpants:,.0f}\\n\")\n",
    "print(f\"Adults attend {adult_participants:,.0f} sessions; {round(adult_participants/total_particpants * 100, 2)}% of the total participants\\n\")\n",
    "print(f\"Children attend {child_participants:,.0f} sessions; {round(child_participants/total_particpants * 100, 2)}% of the total participants\")"
   ]
  },
  {
   "cell_type": "code",
   "execution_count": 176,
   "metadata": {},
   "outputs": [
    {
     "name": "stdout",
     "output_type": "stream",
     "text": [
      "Total number of referred participants 164,159; 10.3% of the total participants\n"
     ]
    }
   ],
   "source": [
    "# what percent of people come by referral? \n",
    "referred_participants = df['ReferralParticipants'].sum()\n",
    "print(f\"Total number of referred participants {referred_participants:,.0f}; {round(referred_participants/total_particpants * 100, 2)}% of the total participants\")"
   ]
  },
  {
   "cell_type": "markdown",
   "metadata": {},
   "source": [
    "#### Volunteer Stats"
   ]
  },
  {
   "cell_type": "code",
   "execution_count": 177,
   "metadata": {},
   "outputs": [
    {
     "name": "stdout",
     "output_type": "stream",
     "text": [
      "The average number of volunteers since 2016 is 0.16 people\n",
      "\n",
      "The average number of volunteers in 2016 is 0.0\n",
      "The average number of volunteers in 2017 is 0.0\n",
      "The average number of volunteers in 2018 is 0.0\n",
      "The average number of volunteers in 2019 is 0.61\n",
      "\n",
      "The average number of External Voluneers: 0.24\n",
      "The average number of Hub Voluneers: 0.2\n",
      "The average number of School Voluneers: 0.17\n"
     ]
    }
   ],
   "source": [
    "# how many volunteers? \n",
    "\n",
    "# create a sum of volunteers\n",
    "df['TotalVolunteerNumber'] = df['ExternalVolunteers'] + df['HubVolunteers']  + df['SchoolVolunteers']\n",
    "\n",
    "# average number of volunteers\n",
    "ave_total_vols = df['TotalVolunteerNumber'].mean()\n",
    "print(f\"The average number of volunteers since 2016 is {round(ave_total_vols, 2)} people\\n\")\n",
    "\n",
    "# average number of volunteers per year \n",
    "[print(f\"The average number of volunteers in {x} is {round(df['TotalVolunteerNumber'].loc[df['ActivityDate'].dt.year == x].mean(), 2)}\") for x in date_range]\n",
    "\n",
    "# and what types of volunteers?\n",
    "# No records of volunteers before 2019 therefor can exclude other years \n",
    "df_valid_volunteer = df.loc[df['ActivityDate'].dt.year == 2019]\n",
    "print(f\"\\nThe average number of External Voluneers: {round(df_valid_volunteer['ExternalVolunteers'].mean(),2)}\")\n",
    "print(f\"The average number of Hub Voluneers: {round(df_valid_volunteer['HubVolunteers'].mean(),2)}\")\n",
    "print(f\"The average number of School Voluneers: {round(df_valid_volunteer['SchoolVolunteers'].mean(),2)}\")"
   ]
  },
  {
   "cell_type": "code",
   "execution_count": null,
   "metadata": {},
   "outputs": [],
   "source": []
  }
 ],
 "metadata": {
  "kernelspec": {
   "display_name": "Python 3",
   "language": "python",
   "name": "python3"
  },
  "language_info": {
   "codemirror_mode": {
    "name": "ipython",
    "version": 3
   },
   "file_extension": ".py",
   "mimetype": "text/x-python",
   "name": "python",
   "nbconvert_exporter": "python",
   "pygments_lexer": "ipython3",
   "version": "3.7.6"
  }
 },
 "nbformat": 4,
 "nbformat_minor": 4
}
